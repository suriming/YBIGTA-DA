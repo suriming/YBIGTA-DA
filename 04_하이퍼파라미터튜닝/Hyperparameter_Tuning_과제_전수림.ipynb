{
  "nbformat": 4,
  "nbformat_minor": 0,
  "metadata": {
    "colab": {
      "name": "Hyperparameter Tuning 과제_전수림",
      "provenance": [],
      "collapsed_sections": []
    },
    "kernelspec": {
      "display_name": "Python 3",
      "language": "python",
      "name": "python3"
    },
    "language_info": {
      "codemirror_mode": {
        "name": "ipython",
        "version": 3
      },
      "file_extension": ".py",
      "mimetype": "text/x-python",
      "name": "python",
      "nbconvert_exporter": "python",
      "pygments_lexer": "ipython3",
      "version": "3.9.6"
    },
    "toc": {
      "base_numbering": 1,
      "nav_menu": {},
      "number_sections": false,
      "sideBar": true,
      "skip_h1_title": false,
      "title_cell": "Table of Contents",
      "title_sidebar": "Contents",
      "toc_cell": false,
      "toc_position": {
        "height": "calc(100% - 180px)",
        "left": "10px",
        "top": "150px",
        "width": "165px"
      },
      "toc_section_display": true,
      "toc_window_display": true
    },
    "varInspector": {
      "cols": {
        "lenName": 16,
        "lenType": 16,
        "lenVar": 40
      },
      "kernels_config": {
        "python": {
          "delete_cmd_postfix": "",
          "delete_cmd_prefix": "del ",
          "library": "var_list.py",
          "varRefreshCmd": "print(var_dic_list())"
        },
        "r": {
          "delete_cmd_postfix": ") ",
          "delete_cmd_prefix": "rm(",
          "library": "var_list.r",
          "varRefreshCmd": "cat(var_dic_list()) "
        }
      },
      "types_to_exclude": [
        "module",
        "function",
        "builtin_function_or_method",
        "instance",
        "_Feature"
      ],
      "window_display": false
    }
  },
  "cells": [
    {
      "cell_type": "markdown",
      "metadata": {
        "id": "gLQCzvw0JYlf"
      },
      "source": [
        "# Hyperparameter Tuning 과제\n",
        "\n",
        "- Manual Search\n",
        "- Random Search (Grid Search 참고)\n",
        "- Bayesian Optimization using HyperOpt\n",
        "<br>연습해보기!"
      ]
    },
    {
      "cell_type": "code",
      "metadata": {
        "ExecuteTime": {
          "end_time": "2021-09-24T20:46:43.988763Z",
          "start_time": "2021-09-24T20:46:43.952056Z"
        },
        "id": "1sDnWUqtJYlg"
      },
      "source": [
        "from sklearn.model_selection import train_test_split\n",
        "from sklearn.linear_model import LogisticRegression\n",
        "from sklearn.metrics import confusion_matrix, accuracy_score, classification_report\n",
        "from sklearn.datasets import load_iris\n",
        "import warnings\n",
        "warnings.filterwarnings('ignore')\n",
        "import time\n",
        "from functools import partial\n",
        "from sklearn.model_selection import cross_val_score"
      ],
      "execution_count": 14,
      "outputs": []
    },
    {
      "cell_type": "code",
      "metadata": {
        "ExecuteTime": {
          "end_time": "2021-09-24T20:46:44.961821Z",
          "start_time": "2021-09-24T20:46:44.943070Z"
        },
        "id": "rA3eO5blJYlr"
      },
      "source": [
        "iris = load_iris()\n",
        "\n",
        "X = iris.data\n",
        "y = iris.target"
      ],
      "execution_count": 4,
      "outputs": []
    },
    {
      "cell_type": "code",
      "metadata": {
        "ExecuteTime": {
          "end_time": "2021-09-24T20:58:53.910634Z",
          "start_time": "2021-09-24T20:58:53.859317Z"
        },
        "id": "R6305NrasoYk"
      },
      "source": [
        "X_train, X_test, y_train, y_test = train_test_split(X, y, random_state=23)"
      ],
      "execution_count": 5,
      "outputs": []
    },
    {
      "cell_type": "markdown",
      "metadata": {
        "id": "gyhhqrxrsoYl"
      },
      "source": [
        "## 1. Manual Search\n",
        "사이킷런 Logistic Regresstion https://scikit-learn.org/stable/modules/generated/sklearn.linear_model.LogisticRegression.html?highlight=logistic%20regression#sklearn.linear_model.LogisticRegression"
      ]
    },
    {
      "cell_type": "code",
      "metadata": {
        "ExecuteTime": {
          "end_time": "2021-09-24T21:00:41.903089Z",
          "start_time": "2021-09-24T21:00:41.725376Z"
        },
        "scrolled": false,
        "id": "h_Exh_OQsoYl",
        "colab": {
          "base_uri": "https://localhost:8080/"
        },
        "outputId": "8dd0e253-d254-4c8e-8815-0697db1c29aa"
      },
      "source": [
        "'''\n",
        "maunal 1 \n",
        "'''\n",
        "\n",
        "manual1 = LogisticRegression(\n",
        "    # 첨부한 링크에 있는 사이킷런 도큐먼트를 참고하여 원하는대로 하이퍼파라미터 값을 넣어주세요\n",
        "    C = 1,\n",
        "    max_iter = 1000,\n",
        "    random_state = 101\n",
        ")\n",
        "\n",
        "manual1.fit(X_train,y_train)\n",
        "y_pred = manual1.predict(X_train)\n",
        "\n",
        "# 정확도를 계산해주세요\n",
        "accuracy_score(y_train, y_pred)"
      ],
      "execution_count": 11,
      "outputs": [
        {
          "output_type": "execute_result",
          "data": {
            "text/plain": [
              "0.9642857142857143"
            ]
          },
          "metadata": {},
          "execution_count": 11
        }
      ]
    },
    {
      "cell_type": "code",
      "source": [
        "'''\n",
        "maunal 2 \n",
        "'''\n",
        "# 다양한 하이퍼파라미터 값을 사용하여 또 다른 manual search를 해보세요\n",
        "# manual1 에 비해 정확도가 더 높아지면 더 좋습니다 !\n",
        "\n",
        "manual2 = LogisticRegression(\n",
        "    # 첨부한 링크에 있는 사이킷런 도큐먼트를 참고하여 원하는대로 하이퍼파라미터 값을 넣어주세요\n",
        "    C = 5,\n",
        "    max_iter = 3000,\n",
        "    solver = 'lbfgs'\n",
        ")\n",
        "\n",
        "manual2.fit(X_train,y_train)\n",
        "y_pred = manual2.predict(X_train)\n",
        "\n",
        "# 정확도를 계산해주세요\n",
        "accuracy_score(y_train, y_pred)\n"
      ],
      "metadata": {
        "id": "i0RC67jrOQ0j",
        "colab": {
          "base_uri": "https://localhost:8080/"
        },
        "outputId": "ce313165-222b-4ec7-aefc-a9fa9d1d1daa"
      },
      "execution_count": 12,
      "outputs": [
        {
          "output_type": "execute_result",
          "data": {
            "text/plain": [
              "0.9821428571428571"
            ]
          },
          "metadata": {},
          "execution_count": 12
        }
      ]
    },
    {
      "cell_type": "markdown",
      "metadata": {
        "id": "FJuP0s1VJYl2"
      },
      "source": [
        "## 2. Grid Search"
      ]
    },
    {
      "cell_type": "code",
      "metadata": {
        "ExecuteTime": {
          "end_time": "2021-09-24T20:46:52.466208Z",
          "start_time": "2021-09-24T20:46:48.233455Z"
        },
        "id": "-vm5xBoDJYl3",
        "colab": {
          "base_uri": "https://localhost:8080/"
        },
        "outputId": "5424a931-1c71-406c-f1fc-51f933b1ec7a"
      },
      "source": [
        "from sklearn.model_selection import GridSearchCV\n",
        "\n",
        "# 파라미터 후보 설정\n",
        "param_grid = {'C': [0.001, 0.01, 0.1, 1, 10, 100],\n",
        "              'max_iter' : [100, 500, 1000, 1500, 2000]}\n",
        "\n",
        "# 그리드 서치 호출\n",
        "grid_search = GridSearchCV(LogisticRegression(), param_grid, cv=5, return_train_score=True)   \n",
        "\n",
        "# 데이터 분할\n",
        "X_train, X_test, y_train, y_test = train_test_split(X, y, random_state=23)\n",
        "\n",
        "start = time.time()\n",
        "# 모델 적합\n",
        "grid_search.fit(X_train, y_train)\n",
        "\n",
        "# 모델 평가\n",
        "print(f\"test set score : {grid_search.score(X_test, y_test)}\")\n",
        "\n",
        "print(f\"best parameters: {grid_search.best_params_}\")\n",
        "print(f\"best CV score: {grid_search.best_score_}\")\n",
        "\n",
        "# 소요 시간 측정\n",
        "print(\"time :\", time.time() - start)"
      ],
      "execution_count": 21,
      "outputs": [
        {
          "output_type": "stream",
          "name": "stdout",
          "text": [
            "test set score : 1.0\n",
            "best parameters: {'C': 1, 'max_iter': 100}\n",
            "best CV score: 0.9553359683794467\n",
            "time : 4.53711724281311\n"
          ]
        }
      ]
    },
    {
      "cell_type": "markdown",
      "metadata": {
        "id": "qDzu1DN5JYl-"
      },
      "source": [
        "## 3. Random Search\n",
        "grid search 코드와 매우 유사하니 참고해서 빈칸 채워주세요 !"
      ]
    },
    {
      "cell_type": "code",
      "metadata": {
        "ExecuteTime": {
          "end_time": "2021-09-24T20:42:41.866511Z",
          "start_time": "2021-09-24T20:42:41.835657Z"
        },
        "id": "iEpwD9lsJYl_",
        "colab": {
          "base_uri": "https://localhost:8080/"
        },
        "outputId": "6fa47a55-4c6d-4424-ae57-1dbf98088f87"
      },
      "source": [
        "from sklearn.model_selection import RandomizedSearchCV\n",
        "\n",
        "# 파라미터 후보 설정\n",
        "param_rand = {'C':[0.1,0.5,1,5,10,20],\n",
        "              'max_iter':[100,500,1000,3000,5000,10000],\n",
        "              'solver':['saga','lbfgs','saga','lbfgs','saga','lbfgs']}\n",
        "# 그리드 서치 호출\n",
        "randomized_search = RandomizedSearchCV(LogisticRegression(), param_rand, cv=6, return_train_score =True )\n",
        "# 데이터 분할\n",
        "X_trn,X_tst,y_trn,y_tst = train_test_split(X,y,random_state=25)\n",
        "# 모델 적합\n",
        "randomized_search.fit(X_trn,y_trn)\n",
        "starttime=time.time()\n",
        "# 모델 평가\n",
        "print(f\"test set score : {randomized_search.score(X_tst,y_tst)}\")\n",
        "print(f\"best parameters: {randomized_search.best_params_}\")\n",
        "print(f\"best CV score : {randomized_search.best_score_}\")\n",
        "# 소요 시간 측정\n",
        "\n",
        "print(\"time:\",time.time()-starttime)"
      ],
      "execution_count": 22,
      "outputs": [
        {
          "output_type": "stream",
          "name": "stdout",
          "text": [
            "test set score : 0.9210526315789473\n",
            "best parameters: {'solver': 'saga', 'max_iter': 10000, 'C': 10}\n",
            "best CV score : 0.9912280701754387\n",
            "time: 0.0019407272338867188\n"
          ]
        }
      ]
    },
    {
      "cell_type": "code",
      "source": [
        ""
      ],
      "metadata": {
        "id": "yiAQU7uOmnv5"
      },
      "execution_count": null,
      "outputs": []
    },
    {
      "cell_type": "markdown",
      "metadata": {
        "id": "Xdm1vVy2JYmN"
      },
      "source": [
        "## 4. HyperOpt"
      ]
    },
    {
      "cell_type": "code",
      "metadata": {
        "ExecuteTime": {
          "end_time": "2021-09-24T17:08:35.707056Z",
          "start_time": "2021-09-24T17:08:29.489528Z"
        },
        "id": "Kng8KkvUsoYn",
        "colab": {
          "base_uri": "https://localhost:8080/"
        },
        "outputId": "716fbba9-0ffd-47f9-d855-6d72c66dfc12"
      },
      "source": [
        "!pip install hyperopt"
      ],
      "execution_count": 2,
      "outputs": [
        {
          "output_type": "stream",
          "name": "stdout",
          "text": [
            "Requirement already satisfied: hyperopt in /usr/local/lib/python3.7/dist-packages (0.1.2)\n",
            "Requirement already satisfied: future in /usr/local/lib/python3.7/dist-packages (from hyperopt) (0.16.0)\n",
            "Requirement already satisfied: six in /usr/local/lib/python3.7/dist-packages (from hyperopt) (1.15.0)\n",
            "Requirement already satisfied: pymongo in /usr/local/lib/python3.7/dist-packages (from hyperopt) (4.0.2)\n",
            "Requirement already satisfied: tqdm in /usr/local/lib/python3.7/dist-packages (from hyperopt) (4.63.0)\n",
            "Requirement already satisfied: numpy in /usr/local/lib/python3.7/dist-packages (from hyperopt) (1.21.5)\n",
            "Requirement already satisfied: networkx in /usr/local/lib/python3.7/dist-packages (from hyperopt) (2.6.3)\n",
            "Requirement already satisfied: scipy in /usr/local/lib/python3.7/dist-packages (from hyperopt) (1.4.1)\n"
          ]
        }
      ]
    },
    {
      "cell_type": "code",
      "metadata": {
        "ExecuteTime": {
          "end_time": "2021-09-24T21:31:05.279023Z",
          "start_time": "2021-09-24T21:31:03.139368Z"
        },
        "scrolled": true,
        "id": "buTAAPeisoYo",
        "colab": {
          "base_uri": "https://localhost:8080/"
        },
        "outputId": "18dfbfc1-8d24-4f86-c7bc-5bf9b2261022"
      },
      "source": [
        "from hyperopt import hp, fmin, tpe, STATUS_OK, Trials\n",
        "\n",
        "space = {\n",
        "    'penalty' : hp.choice('penalty', ['l1', 'l2', 'elasticnet', 'none']), \n",
        "    'fit_intercept' : hp.choice('fit_intercept', [True, False]),\n",
        "    'max_iter' : hp.uniform('max_iter', 100,1000)\n",
        "}\n",
        "\n",
        "def objective(space):\n",
        "    model = LogisticRegression(# 채워주세요\n",
        "      C = 5,\n",
        "      max_iter = 3000,\n",
        "      solver = 'saga'                         \n",
        "                              )\n",
        "    \n",
        "    accuracy = cross_val_score(model, X_train, y_train, cv = 4).mean() # 채워주세요\n",
        "\n",
        "    return {'loss': -accuracy, 'status': STATUS_OK }# 채워주세요\n",
        "    \n",
        "trials = Trials()\n",
        "best = fmin(fn= objective,\n",
        "            space= space,\n",
        "            algo= tpe.suggest,\n",
        "            max_evals = 20,\n",
        "            trials= trials)\n",
        "best"
      ],
      "execution_count": 15,
      "outputs": [
        {
          "output_type": "stream",
          "name": "stdout",
          "text": [
            "100%|██████████| 20/20 [00:02<00:00,  9.39it/s, best loss: -0.9732142857142858]\n"
          ]
        },
        {
          "output_type": "execute_result",
          "data": {
            "text/plain": [
              "{'fit_intercept': 1, 'max_iter': 444.34962682167395, 'penalty': 2}"
            ]
          },
          "metadata": {},
          "execution_count": 15
        }
      ]
    },
    {
      "cell_type": "code",
      "metadata": {
        "ExecuteTime": {
          "end_time": "2021-09-24T21:36:32.724645Z",
          "start_time": "2021-09-24T21:36:32.590849Z"
        },
        "id": "NCd8oFwXsoYo",
        "colab": {
          "base_uri": "https://localhost:8080/"
        },
        "outputId": "d57a6905-e2aa-447e-d7ed-771b7a2dcd3d"
      },
      "source": [
        "from sklearn.metrics import classification_report,confusion_matrix\n",
        "from sklearn.metrics import accuracy_score\n",
        "\n",
        "pen = {0: 'l1', 1: 'l2', 2: 'elasticnet', 3: None}\n",
        "incpt = {0: True, 1: False}\n",
        "\n",
        "trained = LogisticRegression(# 채워주세요\n",
        "      C = 5,\n",
        "      max_iter = 3000,\n",
        "      solver = 'saga' ``\n",
        "                            ).fit(X_train,y_train)\n",
        "\n",
        "pred = trained.predict(X_test)\n",
        "accuracy_score(y_test, pred)\n",
        "\n",
        "# 정확도 도출 부분까지 코드 짜시면 됩니다!"
      ],
      "execution_count": 17,
      "outputs": [
        {
          "output_type": "execute_result",
          "data": {
            "text/plain": [
              "0.9736842105263158"
            ]
          },
          "metadata": {},
          "execution_count": 17
        }
      ]
    },
    {
      "cell_type": "markdown",
      "metadata": {
        "id": "wEcAD9_ZsoYp"
      },
      "source": [
        "## 선택) Bayesian Optimization 사용\n"
      ]
    },
    {
      "cell_type": "code",
      "metadata": {
        "id": "LMx-5StQsoYp"
      },
      "source": [
        "!pip install bayesian-optimization"
      ],
      "execution_count": null,
      "outputs": []
    },
    {
      "cell_type": "code",
      "metadata": {
        "id": "qTLHHCvFsoYp"
      },
      "source": [
        "from bayes_opt import BayesianOptimization"
      ],
      "execution_count": null,
      "outputs": []
    }
  ]
}