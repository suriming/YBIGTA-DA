{
 "cells": [
  {
   "cell_type": "code",
   "execution_count": 1,
   "id": "1783f920",
   "metadata": {},
   "outputs": [
    {
     "name": "stdout",
     "output_type": "stream",
     "text": [
      "zsh:1: command not found: apt-get\r\n"
     ]
    }
   ],
   "source": [
    "!apt-get update"
   ]
  },
  {
   "cell_type": "code",
   "execution_count": 2,
   "id": "89e76628",
   "metadata": {},
   "outputs": [
    {
     "name": "stdout",
     "output_type": "stream",
     "text": [
      "Collecting selenium\n",
      "  Downloading selenium-4.1.3-py3-none-any.whl (968 kB)\n",
      "\u001b[K     |████████████████████████████████| 968 kB 6.7 MB/s eta 0:00:01\n",
      "\u001b[?25hCollecting urllib3[secure,socks]~=1.26\n",
      "  Downloading urllib3-1.26.9-py2.py3-none-any.whl (138 kB)\n",
      "\u001b[K     |████████████████████████████████| 138 kB 12.4 MB/s eta 0:00:01\n",
      "\u001b[?25hCollecting trio~=0.17\n",
      "  Downloading trio-0.20.0-py3-none-any.whl (359 kB)\n",
      "\u001b[K     |████████████████████████████████| 359 kB 10.8 MB/s eta 0:00:01\n",
      "\u001b[?25hCollecting trio-websocket~=0.9\n",
      "  Downloading trio_websocket-0.9.2-py3-none-any.whl (16 kB)\n",
      "Collecting sniffio\n",
      "  Downloading sniffio-1.2.0-py3-none-any.whl (10 kB)\n",
      "Collecting async-generator>=1.9\n",
      "  Downloading async_generator-1.10-py3-none-any.whl (18 kB)\n",
      "Collecting idna\n",
      "  Downloading idna-3.3-py3-none-any.whl (61 kB)\n",
      "\u001b[K     |████████████████████████████████| 61 kB 8.8 MB/s  eta 0:00:01\n",
      "\u001b[?25hCollecting sortedcontainers\n",
      "  Downloading sortedcontainers-2.4.0-py2.py3-none-any.whl (29 kB)\n",
      "Requirement already satisfied: attrs>=19.2.0 in /Users/ys/opt/anaconda3/envs/crawling/lib/python3.9/site-packages (from trio~=0.17->selenium) (21.4.0)\n",
      "Collecting outcome\n",
      "  Downloading outcome-1.1.0-py2.py3-none-any.whl (9.7 kB)\n",
      "Collecting wsproto>=0.14\n",
      "  Downloading wsproto-1.1.0-py3-none-any.whl (24 kB)\n",
      "Collecting PySocks!=1.5.7,<2.0,>=1.5.6\n",
      "  Downloading PySocks-1.7.1-py3-none-any.whl (16 kB)\n",
      "Collecting cryptography>=1.3.4\n",
      "  Downloading cryptography-36.0.2-cp36-abi3-macosx_10_10_x86_64.whl (2.5 MB)\n",
      "\u001b[K     |████████████████████████████████| 2.5 MB 10.7 MB/s eta 0:00:01\n",
      "\u001b[?25hRequirement already satisfied: certifi in /Users/ys/opt/anaconda3/envs/crawling/lib/python3.9/site-packages (from urllib3[secure,socks]~=1.26->selenium) (2021.10.8)\n",
      "Collecting pyOpenSSL>=0.14\n",
      "  Downloading pyOpenSSL-22.0.0-py2.py3-none-any.whl (55 kB)\n",
      "\u001b[K     |████████████████████████████████| 55 kB 5.4 MB/s  eta 0:00:01\n",
      "\u001b[?25hRequirement already satisfied: cffi>=1.12 in /Users/ys/opt/anaconda3/envs/crawling/lib/python3.9/site-packages (from cryptography>=1.3.4->urllib3[secure,socks]~=1.26->selenium) (1.15.0)\n",
      "Requirement already satisfied: pycparser in /Users/ys/opt/anaconda3/envs/crawling/lib/python3.9/site-packages (from cffi>=1.12->cryptography>=1.3.4->urllib3[secure,socks]~=1.26->selenium) (2.21)\n",
      "Collecting h11<1,>=0.9.0\n",
      "  Using cached h11-0.13.0-py3-none-any.whl (58 kB)\n",
      "Installing collected packages: sortedcontainers, sniffio, outcome, idna, h11, cryptography, async-generator, wsproto, urllib3, trio, PySocks, pyOpenSSL, trio-websocket, selenium\n",
      "Successfully installed PySocks-1.7.1 async-generator-1.10 cryptography-36.0.2 h11-0.13.0 idna-3.3 outcome-1.1.0 pyOpenSSL-22.0.0 selenium-4.1.3 sniffio-1.2.0 sortedcontainers-2.4.0 trio-0.20.0 trio-websocket-0.9.2 urllib3-1.26.9 wsproto-1.1.0\n"
     ]
    }
   ],
   "source": [
    "!pip install selenium"
   ]
  },
  {
   "cell_type": "code",
   "execution_count": 12,
   "id": "33753072",
   "metadata": {},
   "outputs": [
    {
     "name": "stdout",
     "output_type": "stream",
     "text": [
      "Updated 1 tap (homebrew/cask).\r\n",
      "No changes to formulae.\r\n"
     ]
    }
   ],
   "source": [
    "!brew update"
   ]
  },
  {
   "cell_type": "code",
   "execution_count": 13,
   "id": "4985641b",
   "metadata": {},
   "outputs": [
    {
     "name": "stdout",
     "output_type": "stream",
     "text": [
      "Collecting webdriver_manager\n",
      "  Downloading webdriver_manager-3.5.4-py2.py3-none-any.whl (18 kB)\n",
      "Collecting requests\n",
      "  Downloading requests-2.27.1-py2.py3-none-any.whl (63 kB)\n",
      "\u001b[K     |████████████████████████████████| 63 kB 2.6 MB/s eta 0:00:011\n",
      "\u001b[?25hRequirement already satisfied: urllib3<1.27,>=1.21.1 in /Users/ys/opt/anaconda3/envs/crawling/lib/python3.9/site-packages (from requests->webdriver_manager) (1.26.9)\n",
      "Requirement already satisfied: idna<4,>=2.5 in /Users/ys/opt/anaconda3/envs/crawling/lib/python3.9/site-packages (from requests->webdriver_manager) (3.3)\n",
      "Collecting charset-normalizer~=2.0.0\n",
      "  Downloading charset_normalizer-2.0.12-py3-none-any.whl (39 kB)\n",
      "Requirement already satisfied: certifi>=2017.4.17 in /Users/ys/opt/anaconda3/envs/crawling/lib/python3.9/site-packages (from requests->webdriver_manager) (2021.10.8)\n",
      "Installing collected packages: charset-normalizer, requests, webdriver-manager\n",
      "Successfully installed charset-normalizer-2.0.12 requests-2.27.1 webdriver-manager-3.5.4\n"
     ]
    }
   ],
   "source": [
    "!pip install webdriver_manager"
   ]
  },
  {
   "cell_type": "code",
   "execution_count": 14,
   "id": "9008b79f",
   "metadata": {},
   "outputs": [
    {
     "name": "stderr",
     "output_type": "stream",
     "text": [
      "\n",
      "\n",
      "====== WebDriver manager ======\n",
      "Current google-chrome version is 99.0.4844\n",
      "Get LATEST chromedriver version for 99.0.4844 google-chrome\n",
      "There is no [mac64] chromedriver for browser 99.0.4844 in cache\n",
      "Trying to download new driver from https://chromedriver.storage.googleapis.com/99.0.4844.51/chromedriver_mac64.zip\n",
      "Driver has been saved in cache [/Users/ys/.wdm/drivers/chromedriver/mac64/99.0.4844.51]\n"
     ]
    }
   ],
   "source": [
    "from selenium import webdriver\n",
    "from selenium.webdriver.common.keys import Keys\n",
    "from selenium.webdriver.chrome.service import Service\n",
    "from selenium.webdriver.common.by import By\n",
    "from webdriver_manager.chrome import ChromeDriverManager  # 크롬드라이버 자동업데이트\n",
    "import time\n",
    "\n",
    "service = Service(executable_path=ChromeDriverManager().install())\n",
    "browser = webdriver.Chrome(service=service)\n"
   ]
  },
  {
   "cell_type": "code",
   "execution_count": 15,
   "id": "d191ab28",
   "metadata": {},
   "outputs": [],
   "source": [
    "# 웹페이지 주소 이동\n",
    "browser.get(\"https://www.naver.com\")\n",
    "time.sleep(2)"
   ]
  },
  {
   "cell_type": "code",
   "execution_count": 16,
   "id": "f2105e86",
   "metadata": {},
   "outputs": [],
   "source": [
    "browser.find_element(By.CSS_SELECTOR, 'a.nav.shop').click()"
   ]
  },
  {
   "cell_type": "code",
   "execution_count": 19,
   "id": "57bacad9",
   "metadata": {},
   "outputs": [],
   "source": [
    "search = browser.find_element(By.CSS_SELECTOR, 'input.co_srh_input._input')\n",
    "\n",
    "search.send_keys('아이폰13')\n",
    "search.send_keys(Keys.ENTER)\n",
    "time.sleep(2)"
   ]
  },
  {
   "cell_type": "code",
   "execution_count": 75,
   "id": "bf560efc",
   "metadata": {},
   "outputs": [],
   "source": [
    "from selenium.common.exceptions import NoSuchElementException"
   ]
  },
  {
   "cell_type": "code",
   "execution_count": 74,
   "id": "3eebd942",
   "metadata": {},
   "outputs": [
    {
     "name": "stdout",
     "output_type": "stream",
     "text": [
      "Collecting openpyxl\n",
      "  Downloading openpyxl-3.0.9-py2.py3-none-any.whl (242 kB)\n",
      "\u001b[K     |████████████████████████████████| 242 kB 8.4 MB/s eta 0:00:01\n",
      "\u001b[?25hCollecting et-xmlfile\n",
      "  Downloading et_xmlfile-1.1.0-py3-none-any.whl (4.7 kB)\n",
      "Installing collected packages: et-xmlfile, openpyxl\n",
      "Successfully installed et-xmlfile-1.1.0 openpyxl-3.0.9\n"
     ]
    }
   ],
   "source": [
    "!pip install openpyxl"
   ]
  },
  {
   "cell_type": "code",
   "execution_count": 77,
   "id": "a4ea43b0",
   "metadata": {},
   "outputs": [
    {
     "ename": "TypeError",
     "evalue": "__init__() got an unexpected keyword argument 'encoding'",
     "output_type": "error",
     "traceback": [
      "\u001b[0;31m---------------------------------------------------------------------------\u001b[0m",
      "\u001b[0;31mTypeError\u001b[0m                                 Traceback (most recent call last)",
      "Input \u001b[0;32mIn [77]\u001b[0m, in \u001b[0;36m<cell line: 3>\u001b[0;34m()\u001b[0m\n\u001b[1;32m      1\u001b[0m \u001b[38;5;28;01mimport\u001b[39;00m \u001b[38;5;21;01mopenpyxl\u001b[39;00m\n\u001b[0;32m----> 3\u001b[0m wb \u001b[38;5;241m=\u001b[39m \u001b[43mopenpyxl\u001b[49m\u001b[38;5;241;43m.\u001b[39;49m\u001b[43mWorkbook\u001b[49m\u001b[43m(\u001b[49m\u001b[43mencoding\u001b[49m\u001b[38;5;241;43m=\u001b[39;49m\u001b[38;5;124;43m'\u001b[39;49m\u001b[38;5;124;43mutf-8\u001b[39;49m\u001b[38;5;124;43m'\u001b[39;49m\u001b[43m)\u001b[49m\n\u001b[1;32m      4\u001b[0m sheet \u001b[38;5;241m=\u001b[39m wb\u001b[38;5;241m.\u001b[39mactive\n\u001b[1;32m      5\u001b[0m sheet\u001b[38;5;241m.\u001b[39mappend([\u001b[38;5;124m\"\u001b[39m\u001b[38;5;124m순위\u001b[39m\u001b[38;5;124m\"\u001b[39m,\u001b[38;5;124m\"\u001b[39m\u001b[38;5;124m상품명\u001b[39m\u001b[38;5;124m\"\u001b[39m,\u001b[38;5;124m\"\u001b[39m\u001b[38;5;124m가격\u001b[39m\u001b[38;5;124m\"\u001b[39m,\u001b[38;5;124m\"\u001b[39m\u001b[38;5;124m상세페이지\u001b[39m\u001b[38;5;124m\"\u001b[39m])\n",
      "\u001b[0;31mTypeError\u001b[0m: __init__() got an unexpected keyword argument 'encoding'"
     ]
    }
   ],
   "source": [
    "import openpyxl\n",
    "\n",
    "wb = openpyxl.Workbook(encoding='utf-8')\n",
    "sheet = wb.active\n",
    "sheet.append([\"순위\",\"상품명\",\"가격\",\"상세페이지\"])\n",
    "before_h = browser.execute_script(\"return window.scrollY\")\n",
    "\n",
    "while True:\n",
    "    browser.find_element(By.CSS_SELECTOR, \"body\").send_keys(Keys.END)\n",
    "    time.sleep(1)\n",
    "    after_h = browser.execute_script(\"return window.scroll\")\n",
    "    \n",
    "    if after_h == before_h:\n",
    "        break\n",
    "    before_h = after_h\n",
    "\n",
    "items = browser.find_elements(By.CSS_SELECTOR, 'li.basicList_item__2XT81')\n",
    "\n",
    "i = 1\n",
    "for item in items:\n",
    "    name = item.find_element(By.CSS_SELECTOR, 'div.basicList_title__3P9Q7').text\n",
    "    price = item.find_element(By.CSS_SELECTOR, 'span.price_num__2WUXn').text\n",
    "    link = item.find_element(By.CSS_SELECTOR,'div > a.basicList_link__1MaTN').get_attribute('href')\n",
    "    try: \n",
    "        item.find_element(By.CSS_SELECTOR, 'span.thumbnail_sale__T-L2g').text\n",
    "    except NoSuchElementException:\n",
    "        pass\n",
    "    else:\n",
    "        continue\n",
    "    sheet.append([i, name, price, link])\n",
    "    i += 1\n",
    "wb.save(\"크롤링결과_전수림.xlsx\")"
   ]
  }
 ],
 "metadata": {
  "kernelspec": {
   "display_name": "Python 3 (ipykernel)",
   "language": "python",
   "name": "python3"
  },
  "language_info": {
   "codemirror_mode": {
    "name": "ipython",
    "version": 3
   },
   "file_extension": ".py",
   "mimetype": "text/x-python",
   "name": "python",
   "nbconvert_exporter": "python",
   "pygments_lexer": "ipython3",
   "version": "3.9.7"
  }
 },
 "nbformat": 4,
 "nbformat_minor": 5
}
